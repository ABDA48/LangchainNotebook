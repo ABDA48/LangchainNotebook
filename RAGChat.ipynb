{
 "cells": [
  {
   "cell_type": "code",
   "execution_count": 83,
   "metadata": {},
   "outputs": [],
   "source": [
    "from dotenv import load_dotenv\n",
    "load_dotenv()\n",
    "\n",
    "import streamlit as st \n",
    "import os\n",
    "import google.generativeai as genai\n",
    "api_key=os.environ.get('GOOGLE_API_KEY')\n",
    "genai.configure(api_key=api_key)"
   ]
  },
  {
   "cell_type": "code",
   "execution_count": 84,
   "metadata": {},
   "outputs": [],
   "source": [
    "from langchain_google_genai import ChatGoogleGenerativeAI\n",
    "model = ChatGoogleGenerativeAI(model=\"gemini-pro\")\n",
    "from langchain_google_genai import GoogleGenerativeAIEmbeddings\n",
    "from  langchain_core.vectorstores import InMemoryVectorStore\n",
    "embedding=GoogleGenerativeAIEmbeddings(model=\"models/embedding-001\")"
   ]
  },
  {
   "cell_type": "code",
   "execution_count": 85,
   "metadata": {},
   "outputs": [
    {
     "data": {
      "text/plain": [
       "[Document(metadata={'source': 'emergency.pdf', 'page': 0}, page_content=' \\n  \\n \\nEMERGENCY EVACUATION GUIDE \\n \\nIn the event of a fire or other emergency, seconds count.  The safe, orderly and prompt evacuation of building \\noccupants depends on having the physical safety features of a building in operating condition as well as \\nhaving an emergency evacuation plan.  The cooperation and participation of every building occupant is \\nessential.  Every person that lives and works in a building on campus has an individual responsibility to know \\nhow to evacuate in an emergency and to accomplish the evacuation when the fire alarm device sounds or when \\ndirected by an authority.  This guide will help you to prepare for emergency situations that might arise in your \\nfacility.   \\n \\nPreplan Your Escape:  \\n√ Know the location of fire alarm pull box locations.  \\n√ Make sure your floor has at least two unobstructed ways out. \\n√ Check the fire exits to ma ke sure they are usable. \\n√ Do not use the elevators.  They could beco me disabled, trapping you on the fire floor. \\n√ Know the location of fire rated stairwells that w ill provide a protected path all the way to the outside. \\n√ Learn the sound of your buildings fire alarm.  They could be bells, chimes, horns or a coded gong.  \\n√ Post emergency numbers near all telephones.  \\n√ If you have fire blankets in your area, know how to use them.  \\n \\nIf There is a Fire or Fire Alarm: EVERYONE EVACUATES! \\n√ If you discover a fire or smok e condition, sound the building alarm by activating the nearest pull \\nstation.  Make a follow-up call to University Police at x333 (632-3333) \\n√ Whenever you hear the fire alarm sound, LEAVE  IMMEDIATELY!  Don’t assume the fire alarm \\nis false or a test and wait to see what others do.  In a fire seconds count. \\n√ Try to help others, if you can do so safely. \\n√ Unless unusual conditions dictate otherwise, the best evacuation route is the nearest stairway and \\nout the nearest exit. \\n√ When leaving, close (do not lock) the door behind you.  If the door locks automatically, take your \\nkey with you in case you need to get back in for refuge. \\n√ Once outside, meet at your assembly point and ta ke a head count to make sure everyone is out and \\naccounted for.  Never attempt to re-enter the building to search for someone missing – let fire or \\npolice officials know. \\n \\nIs the Door Hot? \\nBefore opening a door, you should make sure there is no fire on the other side by using the back of your hand to touch the door, \\ndoor knob, or door frame.  If any feel hot, don’t open it, there’s probably fire on the other side.  If cool, open the door slowly, \\nleave the area and close the door behind you. \\n \\nStay Low When There Is Smoke \\nIf you encounter smoke while escaping,. crawl or get as low as you can.  The cleanest air will be within 1 \\nto 2 feet of the floor.  If the main exit is blocked by fire or smoke, you should use your alternate route.  If \\nthis is not feasible, go back in your room to wait for rescue. \\n \\n \\nIf You Cannot Escape \\nClose all doors between you and the fire.  Seal cracks around doors with cloth to keep the smoke out.  Call University Police \\nx333 (632-3333) to notify them of your location.  While waiting for rescuers, signal from a window by hanging clothes out the \\nwindow, waving an object, or shouting. \\nCALL \\nUNIVERSITY \\nPOLICE \\nX-333 \\n632-3333'),\n",
       " Document(metadata={'source': 'emergency.pdf', 'page': 1}, page_content=' \\n \\nAdditional Planning for Persons with Physical Disabilities \\n \\nIf you have a temporary or permanent disability that might prevent your safe, orderly, and prompt evacuation \\nduring an emergency, you need to do some additional planning.  You should plan to : \\n \\n√ Identify primary and secondary routes out of an area to the exits or a safe area of refuge.  Stairwells are designed to \\nprovide protection from smoke and fire; however, doors to these areas must be kept closed in order to afford you this \\nprotection. \\n√ Locate communication devices (phones, call boxes)  \\n√ Establish a Buddy System with individuals who are familiar w ith your disability to obtain assistance during an evacuation. \\n√ Be prepared to call University Police (ext. 333, 632-3333 ) and describe where you are located within the building. \\n√ When the alarm sounds proceed to the nearest exit and evacuate the building with assistance from your buddy. \\n√ If no one is able to assist you down the stairs, proceed to  the stairwell or designated area of refuge and inform other \\nevacuees that you need immediate rescue.  Ask individuals to inform rescuers of your whereabouts \\n \\n \\nAdditional Fire Safety Precautions \\n \\nKeep Exits Clear \\nAll stairwells, exits, corridors shall be kept free of all obstructions at all times.  No furnishings, \\ndecorations, other combustible objects or flammables shall obstruct exits.  Corridors and other \\nportions of the means of egress are meant to be a certain width so that the expected numbers of \\npeople in the building can quickly exit or evacuate in a fire situation.  Any time there are \\nobstructions, the possibility of people becoming trapped or slowed down in a fire, increases greatly.  \\nSince the prime function of corridors is to allow people to escape during a fire, we don’t want these \\nareas to be the origin of fire, or a means to allow it to propagate.  This can very easily happen if \\ncombustibles are stored and allowed to accumulate there. \\n \\nFire Drills \\nEvery building occupant should know what to do in case of fire.  Fire drills are conducted semiannually to provide the \\nopportunity for all building occupants to practice the fire evacuation plan.  Every building occupant is expected to participate in \\ndrills occurring within their building.  Each drill should be treated as if it were the real thing by showing a sense of urgency, \\nimmediate evacuation, and following the instructions of the Fire Marshal conducting the drill.   \\n \\nLaboratory/Hazardous Operation Procedures \\nAll areas that have hazardous operations, including laboratories, must have an emergency plan that details the emergency \\nshutdown procedures. If the equipment requires numerous steps for emergency operation or shutdown, this plan must be in \\nwriting.  In the event of an emergency evacuation, hazardous operations and equipment must be shutdown. This would include: \\n• Turn off flames and other ignition sources. \\n• Unplug electrical equipment that cannot be shut down or secured (hot plates, etc). \\n• Secure all process equipment and hazardous materials, including compressed gases. \\n• Close the fume hood sash. \\n \\n \\n \\n \\nEnvironmental Health & Safety \\n110 Suffolk Hall \\nStony Brook, NY  11794-6200 \\n631-632-6410 \\n(Fax) 631-632-9683 \\nwww.stonybrook.edu/ehs\\nThe Fire Marshals will assist departments in developing evacuation procedures and alternative \\nemergency escape routes to be utilized by building occupants in the event of a fire or other \\nemergency requiring building evacuation.  Call 2-9678 to set up an appointment. ')]"
      ]
     },
     "execution_count": 85,
     "metadata": {},
     "output_type": "execute_result"
    }
   ],
   "source": [
    "from langchain_community.document_loaders import PyPDFLoader\n",
    "loader=PyPDFLoader('emergency.pdf')\n",
    "pdf_doc=loader.load()\n",
    "pdf_doc"
   ]
  },
  {
   "cell_type": "code",
   "execution_count": 86,
   "metadata": {},
   "outputs": [],
   "source": [
    "from  langchain.text_splitter import RecursiveCharacterTextSplitter\n",
    "text_document_splitter=RecursiveCharacterTextSplitter(chunk_size=1000,chunk_overlap=200)\n",
    "documents_pdf=text_document_splitter.split_documents(pdf_doc)\n",
    "db=InMemoryVectorStore.from_documents(documents=documents_pdf,embedding=embedding)"
   ]
  },
  {
   "cell_type": "code",
   "execution_count": 87,
   "metadata": {},
   "outputs": [],
   "source": [
    "from langchain.chains import create_history_aware_retriever"
   ]
  },
  {
   "cell_type": "code",
   "execution_count": 88,
   "metadata": {},
   "outputs": [],
   "source": [
    "retriever_prompt=(\n",
    "    \"Given the following chat history and user question\"\n",
    "    \"rephrase the question into a standalone format that captures all relevant context and details from the conversation.\"\n",
    "    \"create_history_aware_retriever Ensure the reformulated question is clear,\"\n",
    "    \"specific, and can be understood independently without requiring reference to the chat history\"\n",
    ")"
   ]
  },
  {
   "cell_type": "code",
   "execution_count": 89,
   "metadata": {},
   "outputs": [],
   "source": [
    "from langchain_core.prompts import ChatPromptTemplate,MessagesPlaceholder\n",
    "contextualize_prompt=ChatPromptTemplate.from_messages(\n",
    "    [\n",
    "        ('system',retriever_prompt),\n",
    "        MessagesPlaceholder(\"history\"),\n",
    "        (\"human\", \"{input}\")\n",
    "    ]\n",
    ")"
   ]
  },
  {
   "cell_type": "code",
   "execution_count": 90,
   "metadata": {},
   "outputs": [],
   "source": [
    "retriever=db.as_retriever()\n",
    "history_aware=create_history_aware_retriever(model, retriever,contextualize_prompt)"
   ]
  },
  {
   "cell_type": "code",
   "execution_count": 91,
   "metadata": {},
   "outputs": [],
   "source": [
    "\n",
    "prompt = ChatPromptTemplate.from_template(\n",
    "  \"\"\" \n",
    " Answer the following question based only onthe provided context.\n",
    " Think step by step before providing the answer.\n",
    " <context>{context}</context>\n",
    " Question: {input}\n",
    "\"\"\"\n",
    ")"
   ]
  },
  {
   "cell_type": "code",
   "execution_count": 92,
   "metadata": {},
   "outputs": [],
   "source": [
    "from langchain.chains.combine_documents import create_stuff_documents_chain\n",
    "\n",
    "question_answer_chain = create_stuff_documents_chain(model, prompt)"
   ]
  },
  {
   "cell_type": "code",
   "execution_count": 93,
   "metadata": {},
   "outputs": [
    {
     "data": {
      "text/plain": [
       "'Before opening a door, you should make sure there is no fire on the other side by using the back of your hand to touch the door, \\ndoor knob, or door frame.  If any feel hot, don’t open it, there’s probably fire on the other side.  If cool, open the door slowly, \\nleave the area and close the door behind you.'"
      ]
     },
     "execution_count": 93,
     "metadata": {},
     "output_type": "execute_result"
    }
   ],
   "source": [
    "from langchain.chains import create_retrieval_chain\n",
    "retrieval_chain=create_retrieval_chain(retriever, question_answer_chain)\n",
    "\n",
    "response=retrieval_chain.invoke({'input':'what to do ifthe Is the Door Hot'})\n",
    "response['answer']"
   ]
  },
  {
   "cell_type": "code",
   "execution_count": 94,
   "metadata": {},
   "outputs": [],
   "source": [
    "from langchain.chains import create_retrieval_chain\n",
    "reg_chain=create_retrieval_chain(history_aware,question_answer_chain)\n",
    "history=[]"
   ]
  },
  {
   "cell_type": "code",
   "execution_count": 95,
   "metadata": {},
   "outputs": [
    {
     "data": {
      "text/plain": [
       "{'input': 'If There is a Fire or Fire Alarm what to do',\n",
       " 'history': [HumanMessage(content='If There is a Fire or Fire Alarm what to do', additional_kwargs={}, response_metadata={}),\n",
       "  {...}],\n",
       " 'context': [Document(id='34696600-ff47-4c1c-a39e-9d0896fe8c20', metadata={'source': 'emergency.pdf', 'page': 0}, page_content='√ Check the fire exits to ma ke sure they are usable. \\n√ Do not use the elevators.  They could beco me disabled, trapping you on the fire floor. \\n√ Know the location of fire rated stairwells that w ill provide a protected path all the way to the outside. \\n√ Learn the sound of your buildings fire alarm.  They could be bells, chimes, horns or a coded gong.  \\n√ Post emergency numbers near all telephones.  \\n√ If you have fire blankets in your area, know how to use them.  \\n \\nIf There is a Fire or Fire Alarm: EVERYONE EVACUATES! \\n√ If you discover a fire or smok e condition, sound the building alarm by activating the nearest pull \\nstation.  Make a follow-up call to University Police at x333 (632-3333) \\n√ Whenever you hear the fire alarm sound, LEAVE  IMMEDIATELY!  Don’t assume the fire alarm \\nis false or a test and wait to see what others do.  In a fire seconds count. \\n√ Try to help others, if you can do so safely.'),\n",
       "  Document(id='fb1924c1-7921-475a-ad38-c4b4e4a252fb', metadata={'source': 'emergency.pdf', 'page': 0}, page_content='leave the area and close the door behind you. \\n \\nStay Low When There Is Smoke \\nIf you encounter smoke while escaping,. crawl or get as low as you can.  The cleanest air will be within 1 \\nto 2 feet of the floor.  If the main exit is blocked by fire or smoke, you should use your alternate route.  If \\nthis is not feasible, go back in your room to wait for rescue. \\n \\n \\nIf You Cannot Escape \\nClose all doors between you and the fire.  Seal cracks around doors with cloth to keep the smoke out.  Call University Police \\nx333 (632-3333) to notify them of your location.  While waiting for rescuers, signal from a window by hanging clothes out the \\nwindow, waving an object, or shouting. \\nCALL \\nUNIVERSITY \\nPOLICE \\nX-333 \\n632-3333'),\n",
       "  Document(id='b9e41cb5-3650-4027-96cc-72374177b0a5', metadata={'source': 'emergency.pdf', 'page': 1}, page_content='√ When the alarm sounds proceed to the nearest exit and evacuate the building with assistance from your buddy. \\n√ If no one is able to assist you down the stairs, proceed to  the stairwell or designated area of refuge and inform other \\nevacuees that you need immediate rescue.  Ask individuals to inform rescuers of your whereabouts \\n \\n \\nAdditional Fire Safety Precautions \\n \\nKeep Exits Clear \\nAll stairwells, exits, corridors shall be kept free of all obstructions at all times.  No furnishings, \\ndecorations, other combustible objects or flammables shall obstruct exits.  Corridors and other \\nportions of the means of egress are meant to be a certain width so that the expected numbers of \\npeople in the building can quickly exit or evacuate in a fire situation.  Any time there are \\nobstructions, the possibility of people becoming trapped or slowed down in a fire, increases greatly.  \\nSince the prime function of corridors is to allow people to escape during a fire, we don’t want these'),\n",
       "  Document(id='4263277f-f8de-4172-9cd3-3aef6181dc67', metadata={'source': 'emergency.pdf', 'page': 0}, page_content='EMERGENCY EVACUATION GUIDE \\n \\nIn the event of a fire or other emergency, seconds count.  The safe, orderly and prompt evacuation of building \\noccupants depends on having the physical safety features of a building in operating condition as well as \\nhaving an emergency evacuation plan.  The cooperation and participation of every building occupant is \\nessential.  Every person that lives and works in a building on campus has an individual responsibility to know \\nhow to evacuate in an emergency and to accomplish the evacuation when the fire alarm device sounds or when \\ndirected by an authority.  This guide will help you to prepare for emergency situations that might arise in your \\nfacility.   \\n \\nPreplan Your Escape:  \\n√ Know the location of fire alarm pull box locations.  \\n√ Make sure your floor has at least two unobstructed ways out. \\n√ Check the fire exits to ma ke sure they are usable. \\n√ Do not use the elevators.  They could beco me disabled, trapping you on the fire floor.')],\n",
       " 'answer': '1. If you discover a fire or smoke condition, sound the building alarm by activating the nearest pull station.\\n2. Make a follow-up call to University Police at x333 (632-3333)\\n3. Whenever you hear the fire alarm sound, LEAVE  IMMEDIATELY!\\n4. Try to help others, if you can do so safely.\\n5. leave the area and close the door behind you.'}"
      ]
     },
     "execution_count": 95,
     "metadata": {},
     "output_type": "execute_result"
    }
   ],
   "source": [
    "from langchain_core.messages.human import HumanMessage\n",
    "question='If There is a Fire or Fire Alarm what to do'\n",
    "\n",
    "message1=reg_chain.invoke({'input': question,'history': history})\n",
    "history.extend([HumanMessage(content=question),message1])\n",
    "message1"
   ]
  },
  {
   "cell_type": "code",
   "execution_count": 96,
   "metadata": {},
   "outputs": [
    {
     "data": {
      "text/plain": [
       "'1. If you discover a fire or smoke condition, sound the building alarm by activating the nearest pull station.\\n2. Make a follow-up call to University Police at x333 (632-3333)\\n3. Whenever you hear the fire alarm sound, LEAVE  IMMEDIATELY!\\n4. Try to help others, if you can do so safely.\\n5. leave the area and close the door behind you.'"
      ]
     },
     "execution_count": 96,
     "metadata": {},
     "output_type": "execute_result"
    }
   ],
   "source": [
    "message1['answer']"
   ]
  },
  {
   "cell_type": "code",
   "execution_count": 97,
   "metadata": {},
   "outputs": [
    {
     "data": {
      "text/plain": [
       "{'input': 'what to do if  you encounter smoke while escaping',\n",
       " 'history': [HumanMessage(content='If There is a Fire or Fire Alarm what to do', additional_kwargs={}, response_metadata={}),\n",
       "  {'input': 'If There is a Fire or Fire Alarm what to do',\n",
       "   'history': [...],\n",
       "   'context': [Document(id='34696600-ff47-4c1c-a39e-9d0896fe8c20', metadata={'source': 'emergency.pdf', 'page': 0}, page_content='√ Check the fire exits to ma ke sure they are usable. \\n√ Do not use the elevators.  They could beco me disabled, trapping you on the fire floor. \\n√ Know the location of fire rated stairwells that w ill provide a protected path all the way to the outside. \\n√ Learn the sound of your buildings fire alarm.  They could be bells, chimes, horns or a coded gong.  \\n√ Post emergency numbers near all telephones.  \\n√ If you have fire blankets in your area, know how to use them.  \\n \\nIf There is a Fire or Fire Alarm: EVERYONE EVACUATES! \\n√ If you discover a fire or smok e condition, sound the building alarm by activating the nearest pull \\nstation.  Make a follow-up call to University Police at x333 (632-3333) \\n√ Whenever you hear the fire alarm sound, LEAVE  IMMEDIATELY!  Don’t assume the fire alarm \\nis false or a test and wait to see what others do.  In a fire seconds count. \\n√ Try to help others, if you can do so safely.'),\n",
       "    Document(id='fb1924c1-7921-475a-ad38-c4b4e4a252fb', metadata={'source': 'emergency.pdf', 'page': 0}, page_content='leave the area and close the door behind you. \\n \\nStay Low When There Is Smoke \\nIf you encounter smoke while escaping,. crawl or get as low as you can.  The cleanest air will be within 1 \\nto 2 feet of the floor.  If the main exit is blocked by fire or smoke, you should use your alternate route.  If \\nthis is not feasible, go back in your room to wait for rescue. \\n \\n \\nIf You Cannot Escape \\nClose all doors between you and the fire.  Seal cracks around doors with cloth to keep the smoke out.  Call University Police \\nx333 (632-3333) to notify them of your location.  While waiting for rescuers, signal from a window by hanging clothes out the \\nwindow, waving an object, or shouting. \\nCALL \\nUNIVERSITY \\nPOLICE \\nX-333 \\n632-3333'),\n",
       "    Document(id='b9e41cb5-3650-4027-96cc-72374177b0a5', metadata={'source': 'emergency.pdf', 'page': 1}, page_content='√ When the alarm sounds proceed to the nearest exit and evacuate the building with assistance from your buddy. \\n√ If no one is able to assist you down the stairs, proceed to  the stairwell or designated area of refuge and inform other \\nevacuees that you need immediate rescue.  Ask individuals to inform rescuers of your whereabouts \\n \\n \\nAdditional Fire Safety Precautions \\n \\nKeep Exits Clear \\nAll stairwells, exits, corridors shall be kept free of all obstructions at all times.  No furnishings, \\ndecorations, other combustible objects or flammables shall obstruct exits.  Corridors and other \\nportions of the means of egress are meant to be a certain width so that the expected numbers of \\npeople in the building can quickly exit or evacuate in a fire situation.  Any time there are \\nobstructions, the possibility of people becoming trapped or slowed down in a fire, increases greatly.  \\nSince the prime function of corridors is to allow people to escape during a fire, we don’t want these'),\n",
       "    Document(id='4263277f-f8de-4172-9cd3-3aef6181dc67', metadata={'source': 'emergency.pdf', 'page': 0}, page_content='EMERGENCY EVACUATION GUIDE \\n \\nIn the event of a fire or other emergency, seconds count.  The safe, orderly and prompt evacuation of building \\noccupants depends on having the physical safety features of a building in operating condition as well as \\nhaving an emergency evacuation plan.  The cooperation and participation of every building occupant is \\nessential.  Every person that lives and works in a building on campus has an individual responsibility to know \\nhow to evacuate in an emergency and to accomplish the evacuation when the fire alarm device sounds or when \\ndirected by an authority.  This guide will help you to prepare for emergency situations that might arise in your \\nfacility.   \\n \\nPreplan Your Escape:  \\n√ Know the location of fire alarm pull box locations.  \\n√ Make sure your floor has at least two unobstructed ways out. \\n√ Check the fire exits to ma ke sure they are usable. \\n√ Do not use the elevators.  They could beco me disabled, trapping you on the fire floor.')],\n",
       "   'answer': '1. If you discover a fire or smoke condition, sound the building alarm by activating the nearest pull station.\\n2. Make a follow-up call to University Police at x333 (632-3333)\\n3. Whenever you hear the fire alarm sound, LEAVE  IMMEDIATELY!\\n4. Try to help others, if you can do so safely.\\n5. leave the area and close the door behind you.'},\n",
       "  HumanMessage(content='what to do if  you encounter smoke while escaping', additional_kwargs={}, response_metadata={}),\n",
       "  {...}],\n",
       " 'context': [Document(id='fb1924c1-7921-475a-ad38-c4b4e4a252fb', metadata={'source': 'emergency.pdf', 'page': 0}, page_content='leave the area and close the door behind you. \\n \\nStay Low When There Is Smoke \\nIf you encounter smoke while escaping,. crawl or get as low as you can.  The cleanest air will be within 1 \\nto 2 feet of the floor.  If the main exit is blocked by fire or smoke, you should use your alternate route.  If \\nthis is not feasible, go back in your room to wait for rescue. \\n \\n \\nIf You Cannot Escape \\nClose all doors between you and the fire.  Seal cracks around doors with cloth to keep the smoke out.  Call University Police \\nx333 (632-3333) to notify them of your location.  While waiting for rescuers, signal from a window by hanging clothes out the \\nwindow, waving an object, or shouting. \\nCALL \\nUNIVERSITY \\nPOLICE \\nX-333 \\n632-3333'),\n",
       "  Document(id='0d510d96-f349-44b0-b6f8-8967224a9b7c', metadata={'source': 'emergency.pdf', 'page': 0}, page_content='is false or a test and wait to see what others do.  In a fire seconds count. \\n√ Try to help others, if you can do so safely. \\n√ Unless unusual conditions dictate otherwise, the best evacuation route is the nearest stairway and \\nout the nearest exit. \\n√ When leaving, close (do not lock) the door behind you.  If the door locks automatically, take your \\nkey with you in case you need to get back in for refuge. \\n√ Once outside, meet at your assembly point and ta ke a head count to make sure everyone is out and \\naccounted for.  Never attempt to re-enter the building to search for someone missing – let fire or \\npolice officials know. \\n \\nIs the Door Hot? \\nBefore opening a door, you should make sure there is no fire on the other side by using the back of your hand to touch the door, \\ndoor knob, or door frame.  If any feel hot, don’t open it, there’s probably fire on the other side.  If cool, open the door slowly, \\nleave the area and close the door behind you. \\n \\nStay Low When There Is Smoke'),\n",
       "  Document(id='b9e41cb5-3650-4027-96cc-72374177b0a5', metadata={'source': 'emergency.pdf', 'page': 1}, page_content='√ When the alarm sounds proceed to the nearest exit and evacuate the building with assistance from your buddy. \\n√ If no one is able to assist you down the stairs, proceed to  the stairwell or designated area of refuge and inform other \\nevacuees that you need immediate rescue.  Ask individuals to inform rescuers of your whereabouts \\n \\n \\nAdditional Fire Safety Precautions \\n \\nKeep Exits Clear \\nAll stairwells, exits, corridors shall be kept free of all obstructions at all times.  No furnishings, \\ndecorations, other combustible objects or flammables shall obstruct exits.  Corridors and other \\nportions of the means of egress are meant to be a certain width so that the expected numbers of \\npeople in the building can quickly exit or evacuate in a fire situation.  Any time there are \\nobstructions, the possibility of people becoming trapped or slowed down in a fire, increases greatly.  \\nSince the prime function of corridors is to allow people to escape during a fire, we don’t want these'),\n",
       "  Document(id='34696600-ff47-4c1c-a39e-9d0896fe8c20', metadata={'source': 'emergency.pdf', 'page': 0}, page_content='√ Check the fire exits to ma ke sure they are usable. \\n√ Do not use the elevators.  They could beco me disabled, trapping you on the fire floor. \\n√ Know the location of fire rated stairwells that w ill provide a protected path all the way to the outside. \\n√ Learn the sound of your buildings fire alarm.  They could be bells, chimes, horns or a coded gong.  \\n√ Post emergency numbers near all telephones.  \\n√ If you have fire blankets in your area, know how to use them.  \\n \\nIf There is a Fire or Fire Alarm: EVERYONE EVACUATES! \\n√ If you discover a fire or smok e condition, sound the building alarm by activating the nearest pull \\nstation.  Make a follow-up call to University Police at x333 (632-3333) \\n√ Whenever you hear the fire alarm sound, LEAVE  IMMEDIATELY!  Don’t assume the fire alarm \\nis false or a test and wait to see what others do.  In a fire seconds count. \\n√ Try to help others, if you can do so safely.')],\n",
       " 'answer': '1. If you encounter smoke while escaping, crawl or get as low as you can.\\n2. The cleanest air will be within 1 to 2 feet of the floor.\\n3. If the main exit is blocked by fire or smoke, you should use your alternate route.\\n4. If this is not feasible, go back in your room to wait for rescue.'}"
      ]
     },
     "execution_count": 97,
     "metadata": {},
     "output_type": "execute_result"
    }
   ],
   "source": [
    "from langchain_core.messages.human import HumanMessage\n",
    "question='what to do if  you encounter smoke while escaping'\n",
    "\n",
    "message1=reg_chain.invoke({'input': question,'history': history})\n",
    "history.extend([HumanMessage(content=question),message1])\n",
    "message1"
   ]
  },
  {
   "cell_type": "code",
   "execution_count": 98,
   "metadata": {},
   "outputs": [
    {
     "data": {
      "text/plain": [
       "'1. If you encounter smoke while escaping, crawl or get as low as you can.\\n2. The cleanest air will be within 1 to 2 feet of the floor.\\n3. If the main exit is blocked by fire or smoke, you should use your alternate route.\\n4. If this is not feasible, go back in your room to wait for rescue.'"
      ]
     },
     "execution_count": 98,
     "metadata": {},
     "output_type": "execute_result"
    }
   ],
   "source": [
    "message1['answer']"
   ]
  },
  {
   "cell_type": "markdown",
   "metadata": {},
   "source": [
    "# pass the history not mannually"
   ]
  },
  {
   "cell_type": "code",
   "execution_count": null,
   "metadata": {},
   "outputs": [],
   "source": [
    "\n"
   ]
  }
 ],
 "metadata": {
  "kernelspec": {
   "display_name": "Python 3",
   "language": "python",
   "name": "python3"
  },
  "language_info": {
   "codemirror_mode": {
    "name": "ipython",
    "version": 3
   },
   "file_extension": ".py",
   "mimetype": "text/x-python",
   "name": "python",
   "nbconvert_exporter": "python",
   "pygments_lexer": "ipython3",
   "version": "3.11.0"
  }
 },
 "nbformat": 4,
 "nbformat_minor": 2
}
